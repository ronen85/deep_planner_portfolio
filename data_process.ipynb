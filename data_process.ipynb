{
 "cells": [
  {
   "cell_type": "markdown",
   "source": [
    "# Data Processing\n",
    "Import the necessary packages."
   ],
   "metadata": {
    "collapsed": false
   }
  },
  {
   "cell_type": "code",
   "execution_count": 1,
   "metadata": {
    "collapsed": true,
    "pycharm": {
     "is_executing": false
    }
   },
   "outputs": [],
   "source": [
    "import os\n",
    "import pandas as pd\n",
    "from utils import *"
   ]
  },
  {
   "cell_type": "code",
   "execution_count": null,
   "outputs": [],
   "source": [
    "Load data frame."
   ],
   "metadata": {
    "collapsed": false,
    "pycharm": {
     "name": "#%%\n"
    }
   }
  },
  {
   "cell_type": "code",
   "execution_count": 2,
   "outputs": [],
   "source": [
    "CURRENT_DIR = os.getcwd()\n",
    "DATA_DIR = os.path.expanduser(CURRENT_DIR + '/IPC-image-data/lifted')\n",
    "df = pd.read_csv(CURRENT_DIR + '/IPC-image-data/runtimes.csv')"
   ],
   "metadata": {
    "collapsed": false,
    "pycharm": {
     "name": "#%%\n",
     "is_executing": false
    }
   }
  },
  {
   "cell_type": "markdown",
   "source": [
    "Let's take a look at the data:"
   ],
   "metadata": {
    "collapsed": false,
    "pycharm": {
     "name": "#%% md\n"
    }
   }
  },
  {
   "cell_type": "code",
   "execution_count": 3,
   "outputs": [
    {
     "data": {
      "text/plain": "                  filename  h2-simpless-dks-celmcut  \\\n0  agricola-opt18-p01.pddl                  10000.0   \n1  agricola-opt18-p02.pddl                  10000.0   \n2  agricola-opt18-p03.pddl                  10000.0   \n3  agricola-opt18-p04.pddl                  10000.0   \n4  agricola-opt18-p05.pddl                  10000.0   \n\n   h2-simpless-dks-cpdbshc900  h2-simpless-dks-900masb50ksccdfp  \\\n0                     480.029                           84.7561   \n1                     478.332                           72.9656   \n2                     269.491                          100.8550   \n3                     434.582                          339.6020   \n4                     594.021                          188.3360   \n\n   h2-simpless-oss-900masb50ksbmiasm  h2-simpless-dks-blind  \\\n0                            978.635               105.0550   \n1                            969.578                44.7857   \n2                            928.244                39.3269   \n3                            971.922             10000.0000   \n4                            993.565               100.2830   \n\n   h2-simpless-oss-zopdbsgenetic  h2-simpless-oss-blind  \\\n0                        94.7066                94.4991   \n1                        42.1715                42.8049   \n2                        31.5789                31.5499   \n3                       494.1100               537.8430   \n4                        97.5810                94.1114   \n\n   h2-simpless-dks-900masb50ksbmiasm  seq-opt-symba-1  ...  DecStar    FDMS1  \\\n0                            87.5693             6.58  ...  10000.0   90.123   \n1                           532.0520            17.39  ...  10000.0   85.876   \n2                           329.1270            56.72  ...  10000.0  112.842   \n3                           284.4790            14.70  ...  10000.0  355.097   \n4                           361.9160            69.65  ...  10000.0  204.673   \n\n     FDMS2   Metis1   Metis2  Planning_PDBs   Scorpion  SymbolicBidirectional  \\\n0  109.198  10000.0  10000.0         56.453  10000.000                 21.796   \n1  293.176  10000.0  10000.0        245.053   1088.101                 78.054   \n2  405.213  10000.0  10000.0      10000.000    941.246                 87.209   \n3  157.460  10000.0  10000.0        139.942  10000.000                 52.346   \n4  395.223  10000.0  10000.0        991.816  10000.000                 52.934   \n\n    Symple_1   Symple_2  \n0   1743.946   1730.012  \n1  10000.000  10000.000  \n2  10000.000  10000.000  \n3  10000.000  10000.000  \n4  10000.000  10000.000  \n\n[5 rows x 30 columns]",
      "text/html": "<div>\n<style scoped>\n    .dataframe tbody tr th:only-of-type {\n        vertical-align: middle;\n    }\n\n    .dataframe tbody tr th {\n        vertical-align: top;\n    }\n\n    .dataframe thead th {\n        text-align: right;\n    }\n</style>\n<table border=\"1\" class=\"dataframe\">\n  <thead>\n    <tr style=\"text-align: right;\">\n      <th></th>\n      <th>filename</th>\n      <th>h2-simpless-dks-celmcut</th>\n      <th>h2-simpless-dks-cpdbshc900</th>\n      <th>h2-simpless-dks-900masb50ksccdfp</th>\n      <th>h2-simpless-oss-900masb50ksbmiasm</th>\n      <th>h2-simpless-dks-blind</th>\n      <th>h2-simpless-oss-zopdbsgenetic</th>\n      <th>h2-simpless-oss-blind</th>\n      <th>h2-simpless-dks-900masb50ksbmiasm</th>\n      <th>seq-opt-symba-1</th>\n      <th>...</th>\n      <th>DecStar</th>\n      <th>FDMS1</th>\n      <th>FDMS2</th>\n      <th>Metis1</th>\n      <th>Metis2</th>\n      <th>Planning_PDBs</th>\n      <th>Scorpion</th>\n      <th>SymbolicBidirectional</th>\n      <th>Symple_1</th>\n      <th>Symple_2</th>\n    </tr>\n  </thead>\n  <tbody>\n    <tr>\n      <td>0</td>\n      <td>agricola-opt18-p01.pddl</td>\n      <td>10000.0</td>\n      <td>480.029</td>\n      <td>84.7561</td>\n      <td>978.635</td>\n      <td>105.0550</td>\n      <td>94.7066</td>\n      <td>94.4991</td>\n      <td>87.5693</td>\n      <td>6.58</td>\n      <td>...</td>\n      <td>10000.0</td>\n      <td>90.123</td>\n      <td>109.198</td>\n      <td>10000.0</td>\n      <td>10000.0</td>\n      <td>56.453</td>\n      <td>10000.000</td>\n      <td>21.796</td>\n      <td>1743.946</td>\n      <td>1730.012</td>\n    </tr>\n    <tr>\n      <td>1</td>\n      <td>agricola-opt18-p02.pddl</td>\n      <td>10000.0</td>\n      <td>478.332</td>\n      <td>72.9656</td>\n      <td>969.578</td>\n      <td>44.7857</td>\n      <td>42.1715</td>\n      <td>42.8049</td>\n      <td>532.0520</td>\n      <td>17.39</td>\n      <td>...</td>\n      <td>10000.0</td>\n      <td>85.876</td>\n      <td>293.176</td>\n      <td>10000.0</td>\n      <td>10000.0</td>\n      <td>245.053</td>\n      <td>1088.101</td>\n      <td>78.054</td>\n      <td>10000.000</td>\n      <td>10000.000</td>\n    </tr>\n    <tr>\n      <td>2</td>\n      <td>agricola-opt18-p03.pddl</td>\n      <td>10000.0</td>\n      <td>269.491</td>\n      <td>100.8550</td>\n      <td>928.244</td>\n      <td>39.3269</td>\n      <td>31.5789</td>\n      <td>31.5499</td>\n      <td>329.1270</td>\n      <td>56.72</td>\n      <td>...</td>\n      <td>10000.0</td>\n      <td>112.842</td>\n      <td>405.213</td>\n      <td>10000.0</td>\n      <td>10000.0</td>\n      <td>10000.000</td>\n      <td>941.246</td>\n      <td>87.209</td>\n      <td>10000.000</td>\n      <td>10000.000</td>\n    </tr>\n    <tr>\n      <td>3</td>\n      <td>agricola-opt18-p04.pddl</td>\n      <td>10000.0</td>\n      <td>434.582</td>\n      <td>339.6020</td>\n      <td>971.922</td>\n      <td>10000.0000</td>\n      <td>494.1100</td>\n      <td>537.8430</td>\n      <td>284.4790</td>\n      <td>14.70</td>\n      <td>...</td>\n      <td>10000.0</td>\n      <td>355.097</td>\n      <td>157.460</td>\n      <td>10000.0</td>\n      <td>10000.0</td>\n      <td>139.942</td>\n      <td>10000.000</td>\n      <td>52.346</td>\n      <td>10000.000</td>\n      <td>10000.000</td>\n    </tr>\n    <tr>\n      <td>4</td>\n      <td>agricola-opt18-p05.pddl</td>\n      <td>10000.0</td>\n      <td>594.021</td>\n      <td>188.3360</td>\n      <td>993.565</td>\n      <td>100.2830</td>\n      <td>97.5810</td>\n      <td>94.1114</td>\n      <td>361.9160</td>\n      <td>69.65</td>\n      <td>...</td>\n      <td>10000.0</td>\n      <td>204.673</td>\n      <td>395.223</td>\n      <td>10000.0</td>\n      <td>10000.0</td>\n      <td>991.816</td>\n      <td>10000.000</td>\n      <td>52.934</td>\n      <td>10000.000</td>\n      <td>10000.000</td>\n    </tr>\n  </tbody>\n</table>\n<p>5 rows × 30 columns</p>\n</div>"
     },
     "metadata": {},
     "output_type": "execute_result",
     "execution_count": 3
    }
   ],
   "source": [
    "df.head(5)"
   ],
   "metadata": {
    "collapsed": false,
    "pycharm": {
     "name": "#%% \n",
     "is_executing": false
    }
   }
  },
  {
   "cell_type": "markdown",
   "source": [
    "Each row is a different planning problem. The time it took for each planner to solve \n",
    "this problem is mentioned in the columns. \n",
    "The list of planners is   "
   ],
   "metadata": {
    "collapsed": false,
    "pycharm": {
     "name": "#%% md\n"
    }
   }
  },
  {
   "cell_type": "code",
   "execution_count": 5,
   "outputs": [
    {
     "data": {
      "text/plain": "Index(['h2-simpless-dks-celmcut', 'h2-simpless-dks-cpdbshc900',\n       'h2-simpless-dks-900masb50ksccdfp', 'h2-simpless-oss-900masb50ksbmiasm',\n       'h2-simpless-dks-blind', 'h2-simpless-oss-zopdbsgenetic',\n       'h2-simpless-oss-blind', 'h2-simpless-dks-900masb50ksbmiasm',\n       'seq-opt-symba-1', 'h2-simpless-oss-masginfsccdfp',\n       'h2-simpless-dks-900masginfsccdfp', 'h2-simpless-oss-cpdbshc900',\n       'h2-simpless-dks-zopdbsgenetic', 'simpless-oss-masb50kmiasmdfp',\n       'h2-simpless-oss-900masb50ksccdfp', 'simpless-dks-masb50kmiasmdfp',\n       'h2-simpless-oss-celmcut', 'Complementary1', 'Complementary2',\n       'DecStar', 'FDMS1', 'FDMS2', 'Metis1', 'Metis2', 'Planning_PDBs',\n       'Scorpion', 'SymbolicBidirectional', 'Symple_1', 'Symple_2'],\n      dtype='object')"
     },
     "metadata": {},
     "output_type": "execute_result",
     "execution_count": 5
    }
   ],
   "source": [
    "df.columns[1:]"
   ],
   "metadata": {
    "collapsed": false,
    "pycharm": {
     "name": "#%%\n",
     "is_executing": false
    }
   }
  },
  {
   "cell_type": "markdown",
   "source": [
    "For training purposes we create an new abstracted data-frame where, instead of the time it took the planners \n",
    "to achieve a solution, we mark 1, in case the planner can be used for the give planning problem, and 0, otherwise.\n",
    "\n",
    "Creation of a new data-frame:"
   ],
   "metadata": {
    "collapsed": false,
    "pycharm": {
     "name": "#%% md\n"
    }
   }
  },
  {
   "cell_type": "code",
   "execution_count": null,
   "outputs": [],
   "source": [
    "temp_df = df.drop('filename', axis=1)"
   ],
   "metadata": {
    "collapsed": false,
    "pycharm": {
     "name": "#%%\n"
    }
   }
  },
  {
   "cell_type": "markdown",
   "source": [
    "In order to classify which planners are preferable we create, for each problem a time threshold.\n",
    "Each planner that was quicker then the given threshold\n",
    "Now we create, for each problem, a threshold that marks the maximum time it took the planner has to solve the problem.\n",
    "\n"
   ],
   "metadata": {
    "collapsed": false
   }
  }
 ],
 "metadata": {
  "kernelspec": {
   "display_name": "Python 3",
   "language": "python",
   "name": "python3"
  },
  "language_info": {
   "codemirror_mode": {
    "name": "ipython",
    "version": 2
   },
   "file_extension": ".py",
   "mimetype": "text/x-python",
   "name": "python",
   "nbconvert_exporter": "python",
   "pygments_lexer": "ipython2",
   "version": "2.7.6"
  },
  "pycharm": {
   "stem_cell": {
    "cell_type": "raw",
    "source": [],
    "metadata": {
     "collapsed": false
    }
   }
  }
 },
 "nbformat": 4,
 "nbformat_minor": 0
}