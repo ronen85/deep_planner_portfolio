{
 "cells": [
  {
   "cell_type": "markdown",
   "source": [
    "# Data Processing\n",
    "We used a data set that contains images, each image is a representation of a planning task, \n",
    "and a table with total run time for a collection of planners on these tasks. \n",
    "Firstly, we simplify the table to indicate which planners are considered preferable to use on each planning task.\n",
    "Secondly, we \n",
    "\n",
    "## Data-Frame Processing   \n",
    "Import the necessary packages."
   ],
   "metadata": {
    "collapsed": false
   }
  },
  {
   "cell_type": "code",
   "execution_count": 17,
   "metadata": {
    "collapsed": true,
    "pycharm": {
     "is_executing": false
    }
   },
   "outputs": [],
   "source": [
    "import os\n",
    "import pandas as pd\n",
    "from utils import *"
   ]
  },
  {
   "cell_type": "markdown",
   "source": [
    "Load data frame."
   ],
   "metadata": {
    "collapsed": false,
    "pycharm": {
     "name": "#%% md\n",
     "is_executing": false
    }
   }
  },
  {
   "cell_type": "code",
   "execution_count": 18,
   "outputs": [],
   "source": [
    "CURRENT_DIR = os.getcwd()\n",
    "DATA_DIR = os.path.expanduser(CURRENT_DIR + '/IPC-image-data/lifted')\n",
    "df = pd.read_csv(CURRENT_DIR + '/IPC-image-data/runtimes.csv')"
   ],
   "metadata": {
    "collapsed": false,
    "pycharm": {
     "name": "#%%\n",
     "is_executing": false
    }
   }
  },
  {
   "cell_type": "markdown",
   "source": [
    "Let's take a look at the data:"
   ],
   "metadata": {
    "collapsed": false,
    "pycharm": {
     "name": "#%% md\n"
    }
   }
  },
  {
   "cell_type": "code",
   "execution_count": 19,
   "outputs": [
    {
     "data": {
      "text/plain": "                  filename  h2-simpless-dks-celmcut  \\\n0  agricola-opt18-p01.pddl                  10000.0   \n1  agricola-opt18-p02.pddl                  10000.0   \n2  agricola-opt18-p03.pddl                  10000.0   \n3  agricola-opt18-p04.pddl                  10000.0   \n4  agricola-opt18-p05.pddl                  10000.0   \n\n   h2-simpless-dks-cpdbshc900  h2-simpless-dks-900masb50ksccdfp  \\\n0                     480.029                           84.7561   \n1                     478.332                           72.9656   \n2                     269.491                          100.8550   \n3                     434.582                          339.6020   \n4                     594.021                          188.3360   \n\n   h2-simpless-oss-900masb50ksbmiasm  h2-simpless-dks-blind  \\\n0                            978.635               105.0550   \n1                            969.578                44.7857   \n2                            928.244                39.3269   \n3                            971.922             10000.0000   \n4                            993.565               100.2830   \n\n   h2-simpless-oss-zopdbsgenetic  h2-simpless-oss-blind  \\\n0                        94.7066                94.4991   \n1                        42.1715                42.8049   \n2                        31.5789                31.5499   \n3                       494.1100               537.8430   \n4                        97.5810                94.1114   \n\n   h2-simpless-dks-900masb50ksbmiasm  seq-opt-symba-1  ...  DecStar    FDMS1  \\\n0                            87.5693             6.58  ...  10000.0   90.123   \n1                           532.0520            17.39  ...  10000.0   85.876   \n2                           329.1270            56.72  ...  10000.0  112.842   \n3                           284.4790            14.70  ...  10000.0  355.097   \n4                           361.9160            69.65  ...  10000.0  204.673   \n\n     FDMS2   Metis1   Metis2  Planning_PDBs   Scorpion  SymbolicBidirectional  \\\n0  109.198  10000.0  10000.0         56.453  10000.000                 21.796   \n1  293.176  10000.0  10000.0        245.053   1088.101                 78.054   \n2  405.213  10000.0  10000.0      10000.000    941.246                 87.209   \n3  157.460  10000.0  10000.0        139.942  10000.000                 52.346   \n4  395.223  10000.0  10000.0        991.816  10000.000                 52.934   \n\n    Symple_1   Symple_2  \n0   1743.946   1730.012  \n1  10000.000  10000.000  \n2  10000.000  10000.000  \n3  10000.000  10000.000  \n4  10000.000  10000.000  \n\n[5 rows x 30 columns]",
      "text/html": "<div>\n<style scoped>\n    .dataframe tbody tr th:only-of-type {\n        vertical-align: middle;\n    }\n\n    .dataframe tbody tr th {\n        vertical-align: top;\n    }\n\n    .dataframe thead th {\n        text-align: right;\n    }\n</style>\n<table border=\"1\" class=\"dataframe\">\n  <thead>\n    <tr style=\"text-align: right;\">\n      <th></th>\n      <th>filename</th>\n      <th>h2-simpless-dks-celmcut</th>\n      <th>h2-simpless-dks-cpdbshc900</th>\n      <th>h2-simpless-dks-900masb50ksccdfp</th>\n      <th>h2-simpless-oss-900masb50ksbmiasm</th>\n      <th>h2-simpless-dks-blind</th>\n      <th>h2-simpless-oss-zopdbsgenetic</th>\n      <th>h2-simpless-oss-blind</th>\n      <th>h2-simpless-dks-900masb50ksbmiasm</th>\n      <th>seq-opt-symba-1</th>\n      <th>...</th>\n      <th>DecStar</th>\n      <th>FDMS1</th>\n      <th>FDMS2</th>\n      <th>Metis1</th>\n      <th>Metis2</th>\n      <th>Planning_PDBs</th>\n      <th>Scorpion</th>\n      <th>SymbolicBidirectional</th>\n      <th>Symple_1</th>\n      <th>Symple_2</th>\n    </tr>\n  </thead>\n  <tbody>\n    <tr>\n      <td>0</td>\n      <td>agricola-opt18-p01.pddl</td>\n      <td>10000.0</td>\n      <td>480.029</td>\n      <td>84.7561</td>\n      <td>978.635</td>\n      <td>105.0550</td>\n      <td>94.7066</td>\n      <td>94.4991</td>\n      <td>87.5693</td>\n      <td>6.58</td>\n      <td>...</td>\n      <td>10000.0</td>\n      <td>90.123</td>\n      <td>109.198</td>\n      <td>10000.0</td>\n      <td>10000.0</td>\n      <td>56.453</td>\n      <td>10000.000</td>\n      <td>21.796</td>\n      <td>1743.946</td>\n      <td>1730.012</td>\n    </tr>\n    <tr>\n      <td>1</td>\n      <td>agricola-opt18-p02.pddl</td>\n      <td>10000.0</td>\n      <td>478.332</td>\n      <td>72.9656</td>\n      <td>969.578</td>\n      <td>44.7857</td>\n      <td>42.1715</td>\n      <td>42.8049</td>\n      <td>532.0520</td>\n      <td>17.39</td>\n      <td>...</td>\n      <td>10000.0</td>\n      <td>85.876</td>\n      <td>293.176</td>\n      <td>10000.0</td>\n      <td>10000.0</td>\n      <td>245.053</td>\n      <td>1088.101</td>\n      <td>78.054</td>\n      <td>10000.000</td>\n      <td>10000.000</td>\n    </tr>\n    <tr>\n      <td>2</td>\n      <td>agricola-opt18-p03.pddl</td>\n      <td>10000.0</td>\n      <td>269.491</td>\n      <td>100.8550</td>\n      <td>928.244</td>\n      <td>39.3269</td>\n      <td>31.5789</td>\n      <td>31.5499</td>\n      <td>329.1270</td>\n      <td>56.72</td>\n      <td>...</td>\n      <td>10000.0</td>\n      <td>112.842</td>\n      <td>405.213</td>\n      <td>10000.0</td>\n      <td>10000.0</td>\n      <td>10000.000</td>\n      <td>941.246</td>\n      <td>87.209</td>\n      <td>10000.000</td>\n      <td>10000.000</td>\n    </tr>\n    <tr>\n      <td>3</td>\n      <td>agricola-opt18-p04.pddl</td>\n      <td>10000.0</td>\n      <td>434.582</td>\n      <td>339.6020</td>\n      <td>971.922</td>\n      <td>10000.0000</td>\n      <td>494.1100</td>\n      <td>537.8430</td>\n      <td>284.4790</td>\n      <td>14.70</td>\n      <td>...</td>\n      <td>10000.0</td>\n      <td>355.097</td>\n      <td>157.460</td>\n      <td>10000.0</td>\n      <td>10000.0</td>\n      <td>139.942</td>\n      <td>10000.000</td>\n      <td>52.346</td>\n      <td>10000.000</td>\n      <td>10000.000</td>\n    </tr>\n    <tr>\n      <td>4</td>\n      <td>agricola-opt18-p05.pddl</td>\n      <td>10000.0</td>\n      <td>594.021</td>\n      <td>188.3360</td>\n      <td>993.565</td>\n      <td>100.2830</td>\n      <td>97.5810</td>\n      <td>94.1114</td>\n      <td>361.9160</td>\n      <td>69.65</td>\n      <td>...</td>\n      <td>10000.0</td>\n      <td>204.673</td>\n      <td>395.223</td>\n      <td>10000.0</td>\n      <td>10000.0</td>\n      <td>991.816</td>\n      <td>10000.000</td>\n      <td>52.934</td>\n      <td>10000.000</td>\n      <td>10000.000</td>\n    </tr>\n  </tbody>\n</table>\n<p>5 rows × 30 columns</p>\n</div>"
     },
     "metadata": {},
     "output_type": "execute_result",
     "execution_count": 19
    }
   ],
   "source": [
    "df.head(5)"
   ],
   "metadata": {
    "collapsed": false,
    "pycharm": {
     "name": "#%% \n",
     "is_executing": false
    }
   }
  },
  {
   "cell_type": "markdown",
   "source": [
    "Each row contains statistics about a certain planning problem: \n",
    "its name and the time it took for each planner to solve it\n",
    " \n",
    "The list of planners is:   "
   ],
   "metadata": {
    "collapsed": false,
    "pycharm": {
     "name": "#%% md\n"
    }
   }
  },
  {
   "cell_type": "code",
   "execution_count": 20,
   "outputs": [
    {
     "data": {
      "text/plain": "['h2-simpless-dks-celmcut',\n 'h2-simpless-dks-cpdbshc900',\n 'h2-simpless-dks-900masb50ksccdfp',\n 'h2-simpless-oss-900masb50ksbmiasm',\n 'h2-simpless-dks-blind',\n 'h2-simpless-oss-zopdbsgenetic',\n 'h2-simpless-oss-blind',\n 'h2-simpless-dks-900masb50ksbmiasm',\n 'seq-opt-symba-1',\n 'h2-simpless-oss-masginfsccdfp',\n 'h2-simpless-dks-900masginfsccdfp',\n 'h2-simpless-oss-cpdbshc900',\n 'h2-simpless-dks-zopdbsgenetic',\n 'simpless-oss-masb50kmiasmdfp',\n 'h2-simpless-oss-900masb50ksccdfp',\n 'simpless-dks-masb50kmiasmdfp',\n 'h2-simpless-oss-celmcut',\n 'Complementary1',\n 'Complementary2',\n 'DecStar',\n 'FDMS1',\n 'FDMS2',\n 'Metis1',\n 'Metis2',\n 'Planning_PDBs',\n 'Scorpion',\n 'SymbolicBidirectional',\n 'Symple_1',\n 'Symple_2']"
     },
     "metadata": {},
     "output_type": "execute_result",
     "execution_count": 20
    }
   ],
   "source": [
    "list(df.columns[1:])"
   ],
   "metadata": {
    "collapsed": false,
    "pycharm": {
     "name": "#%%\n",
     "is_executing": false
    }
   }
  },
  {
   "cell_type": "markdown",
   "source": [
    "We aim to establish a net that will classify each planning problem to its preferable planner.\n",
    "For training purposes we create a new abstracted data-frame.\n",
    "In the new data-frame we mark 1 where the planner is preferable (top 25%), else we mark 0.\n",
    "\n",
    "Creation of a new data-frame:"
   ],
   "metadata": {
    "collapsed": false,
    "pycharm": {
     "name": "#%% md\n"
    }
   }
  },
  {
   "cell_type": "code",
   "execution_count": 21,
   "outputs": [],
   "source": [
    "temp_df = df.drop('filename', axis=1)\n"
   ],
   "metadata": {
    "collapsed": false,
    "pycharm": {
     "name": "#%%\n",
     "is_executing": false
    }
   }
  },
  {
   "cell_type": "markdown",
   "source": [
    "For each planning problem we establish a threshold that will help us decide which planner is preferable.\n",
    "A planner is preferable if it did not reach timeout and it is faster than 75% of the other planners."
   ],
   "metadata": {
    "collapsed": false
   }
  },
  {
   "cell_type": "code",
   "execution_count": 22,
   "outputs": [],
   "source": [
    "threshold = temp_df.apply(lambda x: np.percentile(x,25), axis=1)\n",
    "threshold[threshold==10000] = temp_df.apply(lambda x: np.percentile(x,20), axis=1)[threshold==10000]\n",
    "threshold[threshold==10000] = temp_df.apply(lambda x: np.percentile(x,15), axis=1)[threshold==10000]\n",
    "threshold[threshold==10000] = temp_df.apply(lambda x: np.percentile(x,10), axis=1)[threshold==10000]\n",
    "threshold[threshold==10000] = temp_df.apply(lambda x: np.percentile(x,5), axis=1)[threshold==10000]\n",
    "threshold[threshold==10000] = temp_df.apply(lambda x: np.percentile(x,1), axis=1)[threshold==10000]\n",
    "# list(threshold)"
   ],
   "metadata": {
    "collapsed": false,
    "pycharm": {
     "name": "#%%\n",
     "is_executing": false
    }
   }
  },
  {
   "cell_type": "markdown",
   "source": [
    "Add the threshold to the a new column in the data-frame. "
   ],
   "metadata": {
    "collapsed": false,
    "pycharm": {
     "name": "#%% md\n"
    }
   }
  },
  {
   "cell_type": "code",
   "execution_count": 23,
   "outputs": [],
   "source": [
    "df['threshold'] = threshold"
   ],
   "metadata": {
    "collapsed": false,
    "pycharm": {
     "name": "#%%\n",
     "is_executing": false
    }
   }
  },
  {
   "cell_type": "markdown",
   "source": [],
   "metadata": {
    "collapsed": false,
    "pycharm": {
     "name": "#%% md\n"
    }
   }
  },
  {
   "cell_type": "code",
   "execution_count": 24,
   "outputs": [
    {
     "data": {
      "text/plain": "                  filename  h2-simpless-dks-celmcut  \\\n0  agricola-opt18-p01.pddl                  10000.0   \n1  agricola-opt18-p02.pddl                  10000.0   \n2  agricola-opt18-p03.pddl                  10000.0   \n3  agricola-opt18-p04.pddl                  10000.0   \n4  agricola-opt18-p05.pddl                  10000.0   \n\n   h2-simpless-dks-cpdbshc900  h2-simpless-dks-900masb50ksccdfp  \\\n0                     480.029                            1.0000   \n1                     478.332                           72.9656   \n2                     269.491                          100.8550   \n3                     434.582                          339.6020   \n4                     594.021                          188.3360   \n\n   h2-simpless-oss-900masb50ksbmiasm  h2-simpless-dks-blind  \\\n0                            978.635                105.055   \n1                            969.578                  1.000   \n2                            928.244                  1.000   \n3                            971.922              10000.000   \n4                            993.565                  1.000   \n\n   h2-simpless-oss-zopdbsgenetic  h2-simpless-oss-blind  \\\n0                        94.7066                94.4991   \n1                         1.0000                 1.0000   \n2                         1.0000                 1.0000   \n3                       494.1100               537.8430   \n4                         1.0000                 1.0000   \n\n   h2-simpless-dks-900masb50ksbmiasm  seq-opt-symba-1  ...    FDMS1    FDMS2  \\\n0                              1.000              1.0  ...    1.000  109.198   \n1                            532.052              1.0  ...   85.876  293.176   \n2                            329.127              1.0  ...  112.842  405.213   \n3                              1.000              1.0  ...  355.097    1.000   \n4                            361.916              1.0  ...  204.673  395.223   \n\n    Metis1   Metis2  Planning_PDBs   Scorpion  SymbolicBidirectional  \\\n0  10000.0  10000.0          1.000  10000.000                  1.000   \n1  10000.0  10000.0        245.053   1088.101                 78.054   \n2  10000.0  10000.0      10000.000    941.246                 87.209   \n3  10000.0  10000.0          1.000  10000.000                  1.000   \n4  10000.0  10000.0        991.816  10000.000                  1.000   \n\n    Symple_1   Symple_2  threshold  \n0   1743.946   1730.012    94.4991  \n1  10000.000  10000.000    72.9656  \n2  10000.000  10000.000    87.2090  \n3  10000.000  10000.000   339.6020  \n4  10000.000  10000.000   160.4630  \n\n[5 rows x 31 columns]",
      "text/html": "<div>\n<style scoped>\n    .dataframe tbody tr th:only-of-type {\n        vertical-align: middle;\n    }\n\n    .dataframe tbody tr th {\n        vertical-align: top;\n    }\n\n    .dataframe thead th {\n        text-align: right;\n    }\n</style>\n<table border=\"1\" class=\"dataframe\">\n  <thead>\n    <tr style=\"text-align: right;\">\n      <th></th>\n      <th>filename</th>\n      <th>h2-simpless-dks-celmcut</th>\n      <th>h2-simpless-dks-cpdbshc900</th>\n      <th>h2-simpless-dks-900masb50ksccdfp</th>\n      <th>h2-simpless-oss-900masb50ksbmiasm</th>\n      <th>h2-simpless-dks-blind</th>\n      <th>h2-simpless-oss-zopdbsgenetic</th>\n      <th>h2-simpless-oss-blind</th>\n      <th>h2-simpless-dks-900masb50ksbmiasm</th>\n      <th>seq-opt-symba-1</th>\n      <th>...</th>\n      <th>FDMS1</th>\n      <th>FDMS2</th>\n      <th>Metis1</th>\n      <th>Metis2</th>\n      <th>Planning_PDBs</th>\n      <th>Scorpion</th>\n      <th>SymbolicBidirectional</th>\n      <th>Symple_1</th>\n      <th>Symple_2</th>\n      <th>threshold</th>\n    </tr>\n  </thead>\n  <tbody>\n    <tr>\n      <td>0</td>\n      <td>agricola-opt18-p01.pddl</td>\n      <td>10000.0</td>\n      <td>480.029</td>\n      <td>1.0000</td>\n      <td>978.635</td>\n      <td>105.055</td>\n      <td>94.7066</td>\n      <td>94.4991</td>\n      <td>1.000</td>\n      <td>1.0</td>\n      <td>...</td>\n      <td>1.000</td>\n      <td>109.198</td>\n      <td>10000.0</td>\n      <td>10000.0</td>\n      <td>1.000</td>\n      <td>10000.000</td>\n      <td>1.000</td>\n      <td>1743.946</td>\n      <td>1730.012</td>\n      <td>94.4991</td>\n    </tr>\n    <tr>\n      <td>1</td>\n      <td>agricola-opt18-p02.pddl</td>\n      <td>10000.0</td>\n      <td>478.332</td>\n      <td>72.9656</td>\n      <td>969.578</td>\n      <td>1.000</td>\n      <td>1.0000</td>\n      <td>1.0000</td>\n      <td>532.052</td>\n      <td>1.0</td>\n      <td>...</td>\n      <td>85.876</td>\n      <td>293.176</td>\n      <td>10000.0</td>\n      <td>10000.0</td>\n      <td>245.053</td>\n      <td>1088.101</td>\n      <td>78.054</td>\n      <td>10000.000</td>\n      <td>10000.000</td>\n      <td>72.9656</td>\n    </tr>\n    <tr>\n      <td>2</td>\n      <td>agricola-opt18-p03.pddl</td>\n      <td>10000.0</td>\n      <td>269.491</td>\n      <td>100.8550</td>\n      <td>928.244</td>\n      <td>1.000</td>\n      <td>1.0000</td>\n      <td>1.0000</td>\n      <td>329.127</td>\n      <td>1.0</td>\n      <td>...</td>\n      <td>112.842</td>\n      <td>405.213</td>\n      <td>10000.0</td>\n      <td>10000.0</td>\n      <td>10000.000</td>\n      <td>941.246</td>\n      <td>87.209</td>\n      <td>10000.000</td>\n      <td>10000.000</td>\n      <td>87.2090</td>\n    </tr>\n    <tr>\n      <td>3</td>\n      <td>agricola-opt18-p04.pddl</td>\n      <td>10000.0</td>\n      <td>434.582</td>\n      <td>339.6020</td>\n      <td>971.922</td>\n      <td>10000.000</td>\n      <td>494.1100</td>\n      <td>537.8430</td>\n      <td>1.000</td>\n      <td>1.0</td>\n      <td>...</td>\n      <td>355.097</td>\n      <td>1.000</td>\n      <td>10000.0</td>\n      <td>10000.0</td>\n      <td>1.000</td>\n      <td>10000.000</td>\n      <td>1.000</td>\n      <td>10000.000</td>\n      <td>10000.000</td>\n      <td>339.6020</td>\n    </tr>\n    <tr>\n      <td>4</td>\n      <td>agricola-opt18-p05.pddl</td>\n      <td>10000.0</td>\n      <td>594.021</td>\n      <td>188.3360</td>\n      <td>993.565</td>\n      <td>1.000</td>\n      <td>1.0000</td>\n      <td>1.0000</td>\n      <td>361.916</td>\n      <td>1.0</td>\n      <td>...</td>\n      <td>204.673</td>\n      <td>395.223</td>\n      <td>10000.0</td>\n      <td>10000.0</td>\n      <td>991.816</td>\n      <td>10000.000</td>\n      <td>1.000</td>\n      <td>10000.000</td>\n      <td>10000.000</td>\n      <td>160.4630</td>\n    </tr>\n  </tbody>\n</table>\n<p>5 rows × 31 columns</p>\n</div>"
     },
     "metadata": {},
     "output_type": "execute_result",
     "execution_count": 24
    }
   ],
   "source": [
    "columns = list(df.columns)\n",
    "columns.remove('filename')\n",
    "\n",
    "for col in columns:\n",
    "    cond = (df[col] < df['threshold']) & (df[col] != -1)\n",
    "    df.loc[cond, col] = 1\n",
    "\n",
    "df.head()"
   ],
   "metadata": {
    "collapsed": false,
    "pycharm": {
     "name": "#%%\n",
     "is_executing": false
    }
   }
  },
  {
   "cell_type": "code",
   "execution_count": 25,
   "outputs": [
    {
     "data": {
      "text/plain": "                  filename  h2-simpless-dks-celmcut  \\\n0  agricola-opt18-p01.pddl                      0.0   \n1  agricola-opt18-p02.pddl                      0.0   \n2  agricola-opt18-p03.pddl                      0.0   \n3  agricola-opt18-p04.pddl                      0.0   \n4  agricola-opt18-p05.pddl                      0.0   \n\n   h2-simpless-dks-cpdbshc900  h2-simpless-dks-900masb50ksccdfp  \\\n0                     480.029                            1.0000   \n1                     478.332                           72.9656   \n2                     269.491                          100.8550   \n3                     434.582                          339.6020   \n4                     594.021                          188.3360   \n\n   h2-simpless-oss-900masb50ksbmiasm  h2-simpless-dks-blind  \\\n0                            978.635                105.055   \n1                            969.578                  1.000   \n2                            928.244                  1.000   \n3                            971.922                  0.000   \n4                            993.565                  1.000   \n\n   h2-simpless-oss-zopdbsgenetic  h2-simpless-oss-blind  \\\n0                        94.7066                94.4991   \n1                         1.0000                 1.0000   \n2                         1.0000                 1.0000   \n3                       494.1100               537.8430   \n4                         1.0000                 1.0000   \n\n   h2-simpless-dks-900masb50ksbmiasm  seq-opt-symba-1  ...    FDMS1    FDMS2  \\\n0                              1.000              1.0  ...    1.000  109.198   \n1                            532.052              1.0  ...   85.876  293.176   \n2                            329.127              1.0  ...  112.842  405.213   \n3                              1.000              1.0  ...  355.097    1.000   \n4                            361.916              1.0  ...  204.673  395.223   \n\n   Metis1  Metis2  Planning_PDBs  Scorpion  SymbolicBidirectional  Symple_1  \\\n0     0.0     0.0          1.000     0.000                  1.000  1743.946   \n1     0.0     0.0        245.053  1088.101                 78.054     0.000   \n2     0.0     0.0          0.000   941.246                 87.209     0.000   \n3     0.0     0.0          1.000     0.000                  1.000     0.000   \n4     0.0     0.0        991.816     0.000                  1.000     0.000   \n\n   Symple_2  threshold  \n0  1730.012    94.4991  \n1     0.000    72.9656  \n2     0.000    87.2090  \n3     0.000   339.6020  \n4     0.000   160.4630  \n\n[5 rows x 31 columns]",
      "text/html": "<div>\n<style scoped>\n    .dataframe tbody tr th:only-of-type {\n        vertical-align: middle;\n    }\n\n    .dataframe tbody tr th {\n        vertical-align: top;\n    }\n\n    .dataframe thead th {\n        text-align: right;\n    }\n</style>\n<table border=\"1\" class=\"dataframe\">\n  <thead>\n    <tr style=\"text-align: right;\">\n      <th></th>\n      <th>filename</th>\n      <th>h2-simpless-dks-celmcut</th>\n      <th>h2-simpless-dks-cpdbshc900</th>\n      <th>h2-simpless-dks-900masb50ksccdfp</th>\n      <th>h2-simpless-oss-900masb50ksbmiasm</th>\n      <th>h2-simpless-dks-blind</th>\n      <th>h2-simpless-oss-zopdbsgenetic</th>\n      <th>h2-simpless-oss-blind</th>\n      <th>h2-simpless-dks-900masb50ksbmiasm</th>\n      <th>seq-opt-symba-1</th>\n      <th>...</th>\n      <th>FDMS1</th>\n      <th>FDMS2</th>\n      <th>Metis1</th>\n      <th>Metis2</th>\n      <th>Planning_PDBs</th>\n      <th>Scorpion</th>\n      <th>SymbolicBidirectional</th>\n      <th>Symple_1</th>\n      <th>Symple_2</th>\n      <th>threshold</th>\n    </tr>\n  </thead>\n  <tbody>\n    <tr>\n      <td>0</td>\n      <td>agricola-opt18-p01.pddl</td>\n      <td>0.0</td>\n      <td>480.029</td>\n      <td>1.0000</td>\n      <td>978.635</td>\n      <td>105.055</td>\n      <td>94.7066</td>\n      <td>94.4991</td>\n      <td>1.000</td>\n      <td>1.0</td>\n      <td>...</td>\n      <td>1.000</td>\n      <td>109.198</td>\n      <td>0.0</td>\n      <td>0.0</td>\n      <td>1.000</td>\n      <td>0.000</td>\n      <td>1.000</td>\n      <td>1743.946</td>\n      <td>1730.012</td>\n      <td>94.4991</td>\n    </tr>\n    <tr>\n      <td>1</td>\n      <td>agricola-opt18-p02.pddl</td>\n      <td>0.0</td>\n      <td>478.332</td>\n      <td>72.9656</td>\n      <td>969.578</td>\n      <td>1.000</td>\n      <td>1.0000</td>\n      <td>1.0000</td>\n      <td>532.052</td>\n      <td>1.0</td>\n      <td>...</td>\n      <td>85.876</td>\n      <td>293.176</td>\n      <td>0.0</td>\n      <td>0.0</td>\n      <td>245.053</td>\n      <td>1088.101</td>\n      <td>78.054</td>\n      <td>0.000</td>\n      <td>0.000</td>\n      <td>72.9656</td>\n    </tr>\n    <tr>\n      <td>2</td>\n      <td>agricola-opt18-p03.pddl</td>\n      <td>0.0</td>\n      <td>269.491</td>\n      <td>100.8550</td>\n      <td>928.244</td>\n      <td>1.000</td>\n      <td>1.0000</td>\n      <td>1.0000</td>\n      <td>329.127</td>\n      <td>1.0</td>\n      <td>...</td>\n      <td>112.842</td>\n      <td>405.213</td>\n      <td>0.0</td>\n      <td>0.0</td>\n      <td>0.000</td>\n      <td>941.246</td>\n      <td>87.209</td>\n      <td>0.000</td>\n      <td>0.000</td>\n      <td>87.2090</td>\n    </tr>\n    <tr>\n      <td>3</td>\n      <td>agricola-opt18-p04.pddl</td>\n      <td>0.0</td>\n      <td>434.582</td>\n      <td>339.6020</td>\n      <td>971.922</td>\n      <td>0.000</td>\n      <td>494.1100</td>\n      <td>537.8430</td>\n      <td>1.000</td>\n      <td>1.0</td>\n      <td>...</td>\n      <td>355.097</td>\n      <td>1.000</td>\n      <td>0.0</td>\n      <td>0.0</td>\n      <td>1.000</td>\n      <td>0.000</td>\n      <td>1.000</td>\n      <td>0.000</td>\n      <td>0.000</td>\n      <td>339.6020</td>\n    </tr>\n    <tr>\n      <td>4</td>\n      <td>agricola-opt18-p05.pddl</td>\n      <td>0.0</td>\n      <td>594.021</td>\n      <td>188.3360</td>\n      <td>993.565</td>\n      <td>1.000</td>\n      <td>1.0000</td>\n      <td>1.0000</td>\n      <td>361.916</td>\n      <td>1.0</td>\n      <td>...</td>\n      <td>204.673</td>\n      <td>395.223</td>\n      <td>0.0</td>\n      <td>0.0</td>\n      <td>991.816</td>\n      <td>0.000</td>\n      <td>1.000</td>\n      <td>0.000</td>\n      <td>0.000</td>\n      <td>160.4630</td>\n    </tr>\n  </tbody>\n</table>\n<p>5 rows × 31 columns</p>\n</div>"
     },
     "metadata": {},
     "output_type": "execute_result",
     "execution_count": 25
    }
   ],
   "source": [
    "df.replace(10000, 0, inplace=True)\n",
    "df.head()"
   ],
   "metadata": {
    "collapsed": false,
    "pycharm": {
     "name": "#%%\n",
     "is_executing": false
    }
   }
  },
  {
   "cell_type": "code",
   "execution_count": 26,
   "outputs": [
    {
     "data": {
      "text/plain": "                  filename  h2-simpless-dks-celmcut  \\\n0  agricola-opt18-p01.pddl                      0.0   \n1  agricola-opt18-p02.pddl                      0.0   \n2  agricola-opt18-p03.pddl                      0.0   \n3  agricola-opt18-p04.pddl                      0.0   \n4  agricola-opt18-p05.pddl                      0.0   \n\n   h2-simpless-dks-cpdbshc900  h2-simpless-dks-900masb50ksccdfp  \\\n0                         0.0                               1.0   \n1                         0.0                               0.0   \n2                         0.0                               0.0   \n3                         0.0                               0.0   \n4                         0.0                               0.0   \n\n   h2-simpless-oss-900masb50ksbmiasm  h2-simpless-dks-blind  \\\n0                                0.0                    0.0   \n1                                0.0                    1.0   \n2                                0.0                    1.0   \n3                                0.0                    0.0   \n4                                0.0                    1.0   \n\n   h2-simpless-oss-zopdbsgenetic  h2-simpless-oss-blind  \\\n0                            0.0                    0.0   \n1                            1.0                    1.0   \n2                            1.0                    1.0   \n3                            0.0                    0.0   \n4                            1.0                    1.0   \n\n   h2-simpless-dks-900masb50ksbmiasm  seq-opt-symba-1  ...  FDMS1  FDMS2  \\\n0                                1.0              1.0  ...    1.0    0.0   \n1                                0.0              1.0  ...    0.0    0.0   \n2                                0.0              1.0  ...    0.0    0.0   \n3                                1.0              1.0  ...    0.0    1.0   \n4                                0.0              1.0  ...    0.0    0.0   \n\n   Metis1  Metis2  Planning_PDBs  Scorpion  SymbolicBidirectional  Symple_1  \\\n0     0.0     0.0            1.0       0.0                    1.0       0.0   \n1     0.0     0.0            0.0       0.0                    0.0       0.0   \n2     0.0     0.0            0.0       0.0                    0.0       0.0   \n3     0.0     0.0            1.0       0.0                    1.0       0.0   \n4     0.0     0.0            0.0       0.0                    1.0       0.0   \n\n   Symple_2  threshold  \n0       0.0        0.0  \n1       0.0        0.0  \n2       0.0        0.0  \n3       0.0        0.0  \n4       0.0        0.0  \n\n[5 rows x 31 columns]",
      "text/html": "<div>\n<style scoped>\n    .dataframe tbody tr th:only-of-type {\n        vertical-align: middle;\n    }\n\n    .dataframe tbody tr th {\n        vertical-align: top;\n    }\n\n    .dataframe thead th {\n        text-align: right;\n    }\n</style>\n<table border=\"1\" class=\"dataframe\">\n  <thead>\n    <tr style=\"text-align: right;\">\n      <th></th>\n      <th>filename</th>\n      <th>h2-simpless-dks-celmcut</th>\n      <th>h2-simpless-dks-cpdbshc900</th>\n      <th>h2-simpless-dks-900masb50ksccdfp</th>\n      <th>h2-simpless-oss-900masb50ksbmiasm</th>\n      <th>h2-simpless-dks-blind</th>\n      <th>h2-simpless-oss-zopdbsgenetic</th>\n      <th>h2-simpless-oss-blind</th>\n      <th>h2-simpless-dks-900masb50ksbmiasm</th>\n      <th>seq-opt-symba-1</th>\n      <th>...</th>\n      <th>FDMS1</th>\n      <th>FDMS2</th>\n      <th>Metis1</th>\n      <th>Metis2</th>\n      <th>Planning_PDBs</th>\n      <th>Scorpion</th>\n      <th>SymbolicBidirectional</th>\n      <th>Symple_1</th>\n      <th>Symple_2</th>\n      <th>threshold</th>\n    </tr>\n  </thead>\n  <tbody>\n    <tr>\n      <td>0</td>\n      <td>agricola-opt18-p01.pddl</td>\n      <td>0.0</td>\n      <td>0.0</td>\n      <td>1.0</td>\n      <td>0.0</td>\n      <td>0.0</td>\n      <td>0.0</td>\n      <td>0.0</td>\n      <td>1.0</td>\n      <td>1.0</td>\n      <td>...</td>\n      <td>1.0</td>\n      <td>0.0</td>\n      <td>0.0</td>\n      <td>0.0</td>\n      <td>1.0</td>\n      <td>0.0</td>\n      <td>1.0</td>\n      <td>0.0</td>\n      <td>0.0</td>\n      <td>0.0</td>\n    </tr>\n    <tr>\n      <td>1</td>\n      <td>agricola-opt18-p02.pddl</td>\n      <td>0.0</td>\n      <td>0.0</td>\n      <td>0.0</td>\n      <td>0.0</td>\n      <td>1.0</td>\n      <td>1.0</td>\n      <td>1.0</td>\n      <td>0.0</td>\n      <td>1.0</td>\n      <td>...</td>\n      <td>0.0</td>\n      <td>0.0</td>\n      <td>0.0</td>\n      <td>0.0</td>\n      <td>0.0</td>\n      <td>0.0</td>\n      <td>0.0</td>\n      <td>0.0</td>\n      <td>0.0</td>\n      <td>0.0</td>\n    </tr>\n    <tr>\n      <td>2</td>\n      <td>agricola-opt18-p03.pddl</td>\n      <td>0.0</td>\n      <td>0.0</td>\n      <td>0.0</td>\n      <td>0.0</td>\n      <td>1.0</td>\n      <td>1.0</td>\n      <td>1.0</td>\n      <td>0.0</td>\n      <td>1.0</td>\n      <td>...</td>\n      <td>0.0</td>\n      <td>0.0</td>\n      <td>0.0</td>\n      <td>0.0</td>\n      <td>0.0</td>\n      <td>0.0</td>\n      <td>0.0</td>\n      <td>0.0</td>\n      <td>0.0</td>\n      <td>0.0</td>\n    </tr>\n    <tr>\n      <td>3</td>\n      <td>agricola-opt18-p04.pddl</td>\n      <td>0.0</td>\n      <td>0.0</td>\n      <td>0.0</td>\n      <td>0.0</td>\n      <td>0.0</td>\n      <td>0.0</td>\n      <td>0.0</td>\n      <td>1.0</td>\n      <td>1.0</td>\n      <td>...</td>\n      <td>0.0</td>\n      <td>1.0</td>\n      <td>0.0</td>\n      <td>0.0</td>\n      <td>1.0</td>\n      <td>0.0</td>\n      <td>1.0</td>\n      <td>0.0</td>\n      <td>0.0</td>\n      <td>0.0</td>\n    </tr>\n    <tr>\n      <td>4</td>\n      <td>agricola-opt18-p05.pddl</td>\n      <td>0.0</td>\n      <td>0.0</td>\n      <td>0.0</td>\n      <td>0.0</td>\n      <td>1.0</td>\n      <td>1.0</td>\n      <td>1.0</td>\n      <td>0.0</td>\n      <td>1.0</td>\n      <td>...</td>\n      <td>0.0</td>\n      <td>0.0</td>\n      <td>0.0</td>\n      <td>0.0</td>\n      <td>0.0</td>\n      <td>0.0</td>\n      <td>1.0</td>\n      <td>0.0</td>\n      <td>0.0</td>\n      <td>0.0</td>\n    </tr>\n  </tbody>\n</table>\n<p>5 rows × 31 columns</p>\n</div>"
     },
     "metadata": {},
     "output_type": "execute_result",
     "execution_count": 26
    }
   ],
   "source": [
    "for col in columns:\n",
    "    cond = (df[col] != 1) & (df[col] != -1)\n",
    "    df.loc[cond, col] = 0\n",
    "df.head()"
   ],
   "metadata": {
    "collapsed": false,
    "pycharm": {
     "name": "#%%\n",
     "is_executing": false
    }
   }
  },
  {
   "cell_type": "code",
   "execution_count": 27,
   "outputs": [
    {
     "data": {
      "text/plain": "                  filename  h2-simpless-dks-celmcut  \\\n0  agricola-opt18-p01.pddl                      0.0   \n1  agricola-opt18-p02.pddl                      0.0   \n2  agricola-opt18-p03.pddl                      0.0   \n3  agricola-opt18-p04.pddl                      0.0   \n4  agricola-opt18-p05.pddl                      0.0   \n\n   h2-simpless-dks-cpdbshc900  h2-simpless-dks-900masb50ksccdfp  \\\n0                         0.0                               1.0   \n1                         0.0                               0.0   \n2                         0.0                               0.0   \n3                         0.0                               0.0   \n4                         0.0                               0.0   \n\n   h2-simpless-oss-900masb50ksbmiasm  h2-simpless-dks-blind  \\\n0                                0.0                    0.0   \n1                                0.0                    1.0   \n2                                0.0                    1.0   \n3                                0.0                    0.0   \n4                                0.0                    1.0   \n\n   h2-simpless-oss-zopdbsgenetic  h2-simpless-oss-blind  \\\n0                            0.0                    0.0   \n1                            1.0                    1.0   \n2                            1.0                    1.0   \n3                            0.0                    0.0   \n4                            1.0                    1.0   \n\n   h2-simpless-dks-900masb50ksbmiasm  seq-opt-symba-1  ...  DecStar  FDMS1  \\\n0                                1.0              1.0  ...      0.0    1.0   \n1                                0.0              1.0  ...      0.0    0.0   \n2                                0.0              1.0  ...      0.0    0.0   \n3                                1.0              1.0  ...      0.0    0.0   \n4                                0.0              1.0  ...      0.0    0.0   \n\n   FDMS2  Metis1  Metis2  Planning_PDBs  Scorpion  SymbolicBidirectional  \\\n0    0.0     0.0     0.0            1.0       0.0                    1.0   \n1    0.0     0.0     0.0            0.0       0.0                    0.0   \n2    0.0     0.0     0.0            0.0       0.0                    0.0   \n3    1.0     0.0     0.0            1.0       0.0                    1.0   \n4    0.0     0.0     0.0            0.0       0.0                    1.0   \n\n   Symple_1  Symple_2  \n0       0.0       0.0  \n1       0.0       0.0  \n2       0.0       0.0  \n3       0.0       0.0  \n4       0.0       0.0  \n\n[5 rows x 30 columns]",
      "text/html": "<div>\n<style scoped>\n    .dataframe tbody tr th:only-of-type {\n        vertical-align: middle;\n    }\n\n    .dataframe tbody tr th {\n        vertical-align: top;\n    }\n\n    .dataframe thead th {\n        text-align: right;\n    }\n</style>\n<table border=\"1\" class=\"dataframe\">\n  <thead>\n    <tr style=\"text-align: right;\">\n      <th></th>\n      <th>filename</th>\n      <th>h2-simpless-dks-celmcut</th>\n      <th>h2-simpless-dks-cpdbshc900</th>\n      <th>h2-simpless-dks-900masb50ksccdfp</th>\n      <th>h2-simpless-oss-900masb50ksbmiasm</th>\n      <th>h2-simpless-dks-blind</th>\n      <th>h2-simpless-oss-zopdbsgenetic</th>\n      <th>h2-simpless-oss-blind</th>\n      <th>h2-simpless-dks-900masb50ksbmiasm</th>\n      <th>seq-opt-symba-1</th>\n      <th>...</th>\n      <th>DecStar</th>\n      <th>FDMS1</th>\n      <th>FDMS2</th>\n      <th>Metis1</th>\n      <th>Metis2</th>\n      <th>Planning_PDBs</th>\n      <th>Scorpion</th>\n      <th>SymbolicBidirectional</th>\n      <th>Symple_1</th>\n      <th>Symple_2</th>\n    </tr>\n  </thead>\n  <tbody>\n    <tr>\n      <td>0</td>\n      <td>agricola-opt18-p01.pddl</td>\n      <td>0.0</td>\n      <td>0.0</td>\n      <td>1.0</td>\n      <td>0.0</td>\n      <td>0.0</td>\n      <td>0.0</td>\n      <td>0.0</td>\n      <td>1.0</td>\n      <td>1.0</td>\n      <td>...</td>\n      <td>0.0</td>\n      <td>1.0</td>\n      <td>0.0</td>\n      <td>0.0</td>\n      <td>0.0</td>\n      <td>1.0</td>\n      <td>0.0</td>\n      <td>1.0</td>\n      <td>0.0</td>\n      <td>0.0</td>\n    </tr>\n    <tr>\n      <td>1</td>\n      <td>agricola-opt18-p02.pddl</td>\n      <td>0.0</td>\n      <td>0.0</td>\n      <td>0.0</td>\n      <td>0.0</td>\n      <td>1.0</td>\n      <td>1.0</td>\n      <td>1.0</td>\n      <td>0.0</td>\n      <td>1.0</td>\n      <td>...</td>\n      <td>0.0</td>\n      <td>0.0</td>\n      <td>0.0</td>\n      <td>0.0</td>\n      <td>0.0</td>\n      <td>0.0</td>\n      <td>0.0</td>\n      <td>0.0</td>\n      <td>0.0</td>\n      <td>0.0</td>\n    </tr>\n    <tr>\n      <td>2</td>\n      <td>agricola-opt18-p03.pddl</td>\n      <td>0.0</td>\n      <td>0.0</td>\n      <td>0.0</td>\n      <td>0.0</td>\n      <td>1.0</td>\n      <td>1.0</td>\n      <td>1.0</td>\n      <td>0.0</td>\n      <td>1.0</td>\n      <td>...</td>\n      <td>0.0</td>\n      <td>0.0</td>\n      <td>0.0</td>\n      <td>0.0</td>\n      <td>0.0</td>\n      <td>0.0</td>\n      <td>0.0</td>\n      <td>0.0</td>\n      <td>0.0</td>\n      <td>0.0</td>\n    </tr>\n    <tr>\n      <td>3</td>\n      <td>agricola-opt18-p04.pddl</td>\n      <td>0.0</td>\n      <td>0.0</td>\n      <td>0.0</td>\n      <td>0.0</td>\n      <td>0.0</td>\n      <td>0.0</td>\n      <td>0.0</td>\n      <td>1.0</td>\n      <td>1.0</td>\n      <td>...</td>\n      <td>0.0</td>\n      <td>0.0</td>\n      <td>1.0</td>\n      <td>0.0</td>\n      <td>0.0</td>\n      <td>1.0</td>\n      <td>0.0</td>\n      <td>1.0</td>\n      <td>0.0</td>\n      <td>0.0</td>\n    </tr>\n    <tr>\n      <td>4</td>\n      <td>agricola-opt18-p05.pddl</td>\n      <td>0.0</td>\n      <td>0.0</td>\n      <td>0.0</td>\n      <td>0.0</td>\n      <td>1.0</td>\n      <td>1.0</td>\n      <td>1.0</td>\n      <td>0.0</td>\n      <td>1.0</td>\n      <td>...</td>\n      <td>0.0</td>\n      <td>0.0</td>\n      <td>0.0</td>\n      <td>0.0</td>\n      <td>0.0</td>\n      <td>0.0</td>\n      <td>0.0</td>\n      <td>1.0</td>\n      <td>0.0</td>\n      <td>0.0</td>\n    </tr>\n  </tbody>\n</table>\n<p>5 rows × 30 columns</p>\n</div>"
     },
     "metadata": {},
     "output_type": "execute_result",
     "execution_count": 27
    }
   ],
   "source": [
    "df.drop('threshold', axis=1, inplace=True)\n",
    "\n",
    "df.head()"
   ],
   "metadata": {
    "collapsed": false,
    "pycharm": {
     "name": "#%%\n",
     "is_executing": false
    }
   }
  },
  {
   "cell_type": "markdown",
   "source": [
    "## Image Processing\n",
    "We use standard python packages to load image data into a numpy array. \n",
    "Then we convert this array into a torch.Tensor."
   ],
   "metadata": {
    "collapsed": false,
    "pycharm": {
     "name": "#%% md\n"
    }
   }
  },
  {
   "cell_type": "code",
   "execution_count": 28,
   "outputs": [
    {
     "name": "stdout",
     "text": [
      "cuda\n"
     ],
     "output_type": "stream"
    }
   ],
   "source": [
    "import os\n",
    "import numpy as np\n",
    "# import pandas as pd\n",
    "import torch\n",
    "import torch.nn as nn\n",
    "import torch.optim as optim\n",
    "import torch.nn.functional as F\n",
    "from torch.utils.data import Dataset, DataLoader\n",
    "from torchvision import transforms\n",
    "# import matplotlib.pyplot as plt\n",
    "# from skimage import io, transform, util\n",
    "# from scipy.fftpack import fft2\n",
    "# from sklearn.preprocessing import RobustScaler, MinMaxScaler\n",
    "from pp_dataset import PlannerPortfolioDataset\n",
    "from architectures import PlaNet\n",
    "import argparse\n",
    "import logging\n",
    "import time\n",
    "torch.manual_seed(42)\n",
    "device = torch.device(\"cuda\" if torch.cuda.is_available() else \"cpu\")\n",
    "print(device)"
   ],
   "metadata": {
    "collapsed": false,
    "pycharm": {
     "name": "#%%\n",
     "is_executing": false
    }
   }
  },
  {
   "cell_type": "markdown",
   "source": [
    "Get path information:"
   ],
   "metadata": {
    "collapsed": false,
    "pycharm": {
     "name": "#%% md\n"
    }
   }
  },
  {
   "cell_type": "code",
   "execution_count": 29,
   "outputs": [],
   "source": [
    "CURRENT_DIR = os.getcwd()\n",
    "processed_df_path = os.path.join(CURRENT_DIR, 'df.csv')\n",
    "image_folder_path = os.path.join(CURRENT_DIR, 'IPC-image-data/lifted/')"
   ],
   "metadata": {
    "collapsed": false,
    "pycharm": {
     "name": "#%%\n",
     "is_executing": false
    }
   }
  },
  {
   "cell_type": "markdown",
   "source": [],
   "metadata": {
    "collapsed": false,
    "pycharm": {
     "name": "#%% md\n"
    }
   }
  },
  {
   "cell_type": "code",
   "execution_count": null,
   "outputs": [],
   "source": [
    "plan_dataset = PlannerPortfolioDataset(processed_df_path, image_folder_path, ftransform=exp_dict['fourier'])"
   ],
   "metadata": {
    "collapsed": false,
    "pycharm": {
     "name": "#%%\n"
    }
   }
  }
 ],
 "metadata": {
  "kernelspec": {
   "display_name": "Python 3",
   "language": "python",
   "name": "python3"
  },
  "language_info": {
   "codemirror_mode": {
    "name": "ipython",
    "version": 2
   },
   "file_extension": ".py",
   "mimetype": "text/x-python",
   "name": "python",
   "nbconvert_exporter": "python",
   "pygments_lexer": "ipython2",
   "version": "2.7.6"
  },
  "pycharm": {
   "stem_cell": {
    "cell_type": "raw",
    "source": [],
    "metadata": {
     "collapsed": false
    }
   }
  }
 },
 "nbformat": 4,
 "nbformat_minor": 0
}